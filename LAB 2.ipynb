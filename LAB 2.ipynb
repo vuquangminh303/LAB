{
 "cells": [
  {
   "cell_type": "code",
   "execution_count": 2,
   "id": "3ec9f418",
   "metadata": {},
   "outputs": [],
   "source": [
    "class Stack:\n",
    "    def __init__(self):\n",
    "        self.stack=[]\n",
    "    def len(self):\n",
    "        return len(self.stack)\n",
    "    def isEmpty(self):\n",
    "        return self.stack==[]\n",
    "    def push(self,x):\n",
    "        self.stack.append(x)\n",
    "    def pop(self):\n",
    "        if len(self.stack)==0:\n",
    "            print('Stack is empty')\n",
    "        else:\n",
    "             return self.stack.pop()\n",
    "    def top(self):\n",
    "        if len(self.stack)==0:\n",
    "            print('Stack is empty')\n",
    "        else:\n",
    "            return self.stack[-1]\n",
    "    def makeEmpty(self):\n",
    "        self.stack=[]"
   ]
  },
  {
   "cell_type": "code",
   "execution_count": 25,
   "id": "73625a65",
   "metadata": {},
   "outputs": [],
   "source": [
    "class Queue:\n",
    "    def __init__(self):\n",
    "        self.q=[]\n",
    "    def is_Empty(self):\n",
    "        return self.q==[]\n",
    "    def enqueue(self,x):\n",
    "        self.q.append(x)\n",
    "    def dequeue(self):\n",
    "        return self.q.pop(0)"
   ]
  },
  {
   "cell_type": "markdown",
   "id": "4e139f4a",
   "metadata": {},
   "source": [
    "# Writing exercises"
   ]
  },
  {
   "cell_type": "markdown",
   "id": "1e162c34",
   "metadata": {},
   "source": [
    "### Question 1\n"
   ]
  },
  {
   "cell_type": "code",
   "execution_count": 19,
   "id": "82e24779",
   "metadata": {},
   "outputs": [
    {
     "name": "stdout",
     "output_type": "stream",
     "text": [
      "3\n",
      "2\n",
      "3\n",
      "5\n",
      "3\n"
     ]
    }
   ],
   "source": [
    "# Question 1\n",
    "def q1(s,x,y,z):\n",
    "    s.makeEmpty()\n",
    "    s.push(x) \n",
    "    s.push(4) \n",
    "    s.pop()\n",
    "    s.push(y) \n",
    "    s.push(3) \n",
    "    s.push(z)\n",
    "    s.pop() \n",
    "    s.push(2) \n",
    "    s.push(x)\n",
    "    while not s.isEmpty( ) : \n",
    "        print(s.pop())\n",
    "s=Stack()\n",
    "x=3\n",
    "y=5\n",
    "z=2\n",
    "q1(s,x,y,z)"
   ]
  },
  {
   "cell_type": "markdown",
   "id": "608b3e34",
   "metadata": {},
   "source": [
    "### Question 2\n"
   ]
  },
  {
   "cell_type": "code",
   "execution_count": 20,
   "id": "9e9b830d",
   "metadata": {},
   "outputs": [
    {
     "name": "stdout",
     "output_type": "stream",
     "text": [
      "4\n"
     ]
    }
   ],
   "source": [
    "#Question 2\n",
    "def q2(s,x,y):\n",
    "    s.makeEmpty()\n",
    "    s.push(5) \n",
    "    s.push(7) \n",
    "    s.pop()\n",
    "    x += y\n",
    "    s.pop()\n",
    "    s.push(x) \n",
    "    s.push(y) \n",
    "    s.push(2) \n",
    "    s.pop() \n",
    "    s.pop()\n",
    "    while not s.isEmpty():\n",
    "        y=s.pop()\n",
    "        print(y)\n",
    "x=3\n",
    "y=1\n",
    "s=Stack()\n",
    "q2(s,x,y)"
   ]
  },
  {
   "cell_type": "markdown",
   "id": "e0c3f209",
   "metadata": {},
   "source": [
    "### Question 3\n"
   ]
  },
  {
   "cell_type": "code",
   "execution_count": 21,
   "id": "b763fb94",
   "metadata": {},
   "outputs": [
    {
     "name": "stdout",
     "output_type": "stream",
     "text": [
      "S Y E U Q T S A O N I E\n"
     ]
    }
   ],
   "source": [
    "#Question 3\n",
    "def q3(arr):\n",
    "    arr=arr.split()\n",
    "    s=Stack()\n",
    "    res=[]\n",
    "    for letter in arr:\n",
    "        if letter.isalpha():\n",
    "            s.push(letter)\n",
    "        else:\n",
    "            res.append(s.pop())\n",
    "    print(*res)\n",
    "arr='E A S * Y * Q U E * * * S T * * * I O * N * * *'\n",
    "q3(arr)"
   ]
  },
  {
   "cell_type": "markdown",
   "id": "1d6c2228",
   "metadata": {},
   "source": [
    "### Question 4"
   ]
  },
  {
   "cell_type": "code",
   "execution_count": 22,
   "id": "85b962a4",
   "metadata": {},
   "outputs": [
    {
     "name": "stdout",
     "output_type": "stream",
     "text": [
      "L\n"
     ]
    }
   ],
   "source": [
    "#Question 4\n",
    "def q4(arr):\n",
    "    arr=arr.split()\n",
    "    s=Stack()\n",
    "    for letter in arr:\n",
    "        if letter.isalpha():\n",
    "            s.push(letter)\n",
    "        else:\n",
    "            s.pop()\n",
    "    while not s.isEmpty():\n",
    "        print(s.pop())\n",
    "arr='L A * S T I * N * F I R * S T * * O U * T * * * * * *'\n",
    "q4(arr)"
   ]
  },
  {
   "cell_type": "markdown",
   "id": "ec379053",
   "metadata": {},
   "source": [
    "### Question 5"
   ]
  },
  {
   "cell_type": "code",
   "execution_count": 26,
   "id": "5d2d82d5",
   "metadata": {},
   "outputs": [
    {
     "name": "stdout",
     "output_type": "stream",
     "text": [
      "E A S Y Q U E S T I O N\n"
     ]
    }
   ],
   "source": [
    "def q5(arr):\n",
    "    arr=arr.split()\n",
    "    q=Queue()\n",
    "    res=[]\n",
    "    for letter in arr:\n",
    "        if letter.isalpha():\n",
    "            q.enqueue(letter)\n",
    "        else:\n",
    "            res.append(q.dequeue())\n",
    "    print(*res)\n",
    "arr='E A S * Y * Q U E * * * S T * * * I O * N * * *'\n",
    "q5(arr)"
   ]
  },
  {
   "cell_type": "markdown",
   "id": "0040ed20",
   "metadata": {},
   "source": [
    "### Question 6"
   ]
  },
  {
   "cell_type": "code",
   "execution_count": 30,
   "id": "1a0350ea",
   "metadata": {},
   "outputs": [],
   "source": [
    "def q6(arr):\n",
    "    arr=arr.split()\n",
    "    q=Queue()\n",
    "    for letter in arr:\n",
    "        if letter.isalpha():\n",
    "            q.enqueue(letter)\n",
    "        else:\n",
    "            q.dequeue()\n",
    "    while not q.is_Empty():\n",
    "        print(q.dequeue())\n",
    "arr='E A S * Y * Q U E * * * S T * * * I O * N * * *'\n",
    "q6(arr)"
   ]
  },
  {
   "cell_type": "code",
   "execution_count": 31,
   "id": "571eefcc",
   "metadata": {},
   "outputs": [
    {
     "name": "stdout",
     "output_type": "stream",
     "text": [
      "['L']\n"
     ]
    }
   ],
   "source": [
    "def stack_operations(sequence):\n",
    "    stack = []\n",
    "    for char in sequence:\n",
    "        if char == '*':\n",
    "            if stack:\n",
    "                stack.pop()\n",
    "        else:\n",
    "            stack.append(char)\n",
    "    return stack[:5]\n",
    "\n",
    "sequence = \"L A * S T I * N * F I R * S T * * O U * T * * * * * *\".split()\n",
    "print(stack_operations(sequence))"
   ]
  },
  {
   "cell_type": "markdown",
   "id": "85ab9bb7",
   "metadata": {},
   "source": [
    "# Practical exercises"
   ]
  },
  {
   "cell_type": "markdown",
   "id": "7051048c",
   "metadata": {},
   "source": [
    "### Question 1"
   ]
  },
  {
   "cell_type": "code",
   "execution_count": 89,
   "id": "957281ac",
   "metadata": {},
   "outputs": [],
   "source": [
    "class stack:\n",
    "    def __init__(self):\n",
    "        self.stack_=[]\n",
    "    def isEmpty(self):\n",
    "        return len(self.stack_)==0\n",
    "    def clear(self):\n",
    "        self.stack_=[]\n",
    "    def push(self,x):\n",
    "        self.stack_.append(x)\n",
    "    def pop(self):\n",
    "        if len(self.stack_)==0:\n",
    "            print('Stack is Empty')\n",
    "        else:\n",
    "            return self.stack_.pop()\n",
    "    def top(self):\n",
    "        if len(self.stack_)==0:\n",
    "            print('Stack is Empty')\n",
    "        else:\n",
    "            return self.stack_[-1]\n",
    "    def traverse(self):\n",
    "        for i in range(len(self.stack_)-1,-1,-1):\n",
    "            print(self.stack_[i],end=' ')\n",
    "def convert_stack(n):\n",
    "    s=stack()\n",
    "    while n:\n",
    "        du=n%2\n",
    "        s.push(du)\n",
    "        n//=2\n",
    "    binary=\"\"\n",
    "    while not s.isEmpty():\n",
    "        binary+=str(s.pop())\n",
    "    print(binary)"
   ]
  },
  {
   "cell_type": "markdown",
   "id": "7c19662b",
   "metadata": {},
   "source": [
    "### Question 2"
   ]
  },
  {
   "cell_type": "code",
   "execution_count": 99,
   "id": "4bb7b715",
   "metadata": {},
   "outputs": [],
   "source": [
    "class queue:\n",
    "    def __init__(self):\n",
    "        self.q=[]\n",
    "    def isEmpty(self):\n",
    "        return len(self.q)==0\n",
    "    def clear(self):\n",
    "        self.q=[]\n",
    "    def enqueue(self,x):\n",
    "        self.q.append(x)\n",
    "    def dequeue(self):\n",
    "        return self.q.pop(0)\n",
    "    def first(self):\n",
    "        if self.q==[]:\n",
    "            print('Queue is empty')\n",
    "        else:\n",
    "            return self.q[0]\n",
    "    def traverse(self):\n",
    "        for i in self.q:\n",
    "            print(i,end=' ')\n",
    "def convert_queue(n):\n",
    "    binary='0.'\n",
    "    q=queue()\n",
    "    while n:\n",
    "        n*=2\n",
    "        int_part=int(n)\n",
    "        n-=int_part\n",
    "        q.enqueue(int_part)\n",
    "    while not q.isEmpty():\n",
    "        binary+=str(q.dequeue())\n",
    "    print(binary)"
   ]
  },
  {
   "cell_type": "markdown",
   "id": "b02f4881",
   "metadata": {},
   "source": [
    "### Question 3,4,5"
   ]
  },
  {
   "cell_type": "code",
   "execution_count": 107,
   "id": "95709480",
   "metadata": {},
   "outputs": [
    {
     "name": "stdout",
     "output_type": "stream",
     "text": [
      "Số cần đổi ra hệ nhị phân: 100\n",
      "Số nhỏ hơn 1 cần đổi ra nhị phân : 0.625\n",
      "----- Stack -----\n",
      "Traverse: AI1811 Lab 2 \n",
      "Top : AI1811\n",
      "Pop : AI1811\n",
      "----- Queue -----\n",
      "So n sau khi doi ra binary: 1100100\n",
      "Traverse: Lab 2 AI1811 \n",
      "First: Lab 2\n",
      "Dequeue : Lab 2\n",
      "So m sau khi doi ra binary: 0.101\n"
     ]
    }
   ],
   "source": [
    "def main(n,m):\n",
    "    s=stack()\n",
    "    s.push(\"Lab 2\")\n",
    "    s.push(\"AI1811\")\n",
    "    print('-'*5,'Stack','-'*5)\n",
    "    print(\"Traverse: \",end='')\n",
    "    s.traverse()\n",
    "    print()\n",
    "    print(f'Top : {s.top()}')\n",
    "    print(f'Pop : {s.pop()}')\n",
    "    print('-'*5,'Queue','-'*5)\n",
    "    print(f'So n sau khi doi ra binary: ',end='')\n",
    "    convert_stack(n)\n",
    "    q=queue()\n",
    "    q.enqueue(\"Lab 2\")\n",
    "    q.enqueue(\"AI1811\")\n",
    "    print(\"Traverse: \",end='')\n",
    "    q.traverse()\n",
    "    print()\n",
    "    print(f'First: {q.first()}')\n",
    "    print(f'Dequeue : {q.dequeue()}')\n",
    "    print(f'So m sau khi doi ra binary: ',end='')\n",
    "    convert_queue(m)\n",
    "n=int(input('Số cần đổi ra hệ nhị phân: '))\n",
    "m=float(input('Số nhỏ hơn 1 cần đổi ra nhị phân : '))\n",
    "main(n,m)"
   ]
  },
  {
   "cell_type": "code",
   "execution_count": null,
   "id": "9700381d",
   "metadata": {},
   "outputs": [],
   "source": []
  }
 ],
 "metadata": {
  "kernelspec": {
   "display_name": "Python 3 (ipykernel)",
   "language": "python",
   "name": "python3"
  },
  "language_info": {
   "codemirror_mode": {
    "name": "ipython",
    "version": 3
   },
   "file_extension": ".py",
   "mimetype": "text/x-python",
   "name": "python",
   "nbconvert_exporter": "python",
   "pygments_lexer": "ipython3",
   "version": "3.11.5"
  }
 },
 "nbformat": 4,
 "nbformat_minor": 5
}
