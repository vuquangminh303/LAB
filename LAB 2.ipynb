{
 "cells": [
  {
   "cell_type": "markdown",
   "id": "4e139f4a",
   "metadata": {},
   "source": [
    "# Writing exercises"
   ]
  },
  {
   "cell_type": "markdown",
   "id": "1e162c34",
   "metadata": {},
   "source": [
    "### Question 1\n"
   ]
  },
  {
   "cell_type": "markdown",
   "id": "595fe478",
   "metadata": {},
   "source": [
    "Output: 3 2 3 5 3"
   ]
  },
  {
   "cell_type": "markdown",
   "id": "608b3e34",
   "metadata": {},
   "source": [
    "### Question 2\n"
   ]
  },
  {
   "cell_type": "markdown",
   "id": "4fc8c173",
   "metadata": {},
   "source": [
    "Output 4, x=4, y=4"
   ]
  },
  {
   "cell_type": "markdown",
   "id": "e0c3f209",
   "metadata": {},
   "source": [
    "### Question 3\n"
   ]
  },
  {
   "cell_type": "markdown",
   "id": "f2b77b9f",
   "metadata": {},
   "source": [
    "Output: S Y E U Q T S A O N I E"
   ]
  },
  {
   "cell_type": "markdown",
   "id": "1d6c2228",
   "metadata": {},
   "source": [
    "### Question 4"
   ]
  },
  {
   "cell_type": "markdown",
   "id": "8265c3b0",
   "metadata": {},
   "source": [
    "Output: L"
   ]
  },
  {
   "cell_type": "markdown",
   "id": "ec379053",
   "metadata": {},
   "source": [
    "### Question 5"
   ]
  },
  {
   "cell_type": "markdown",
   "id": "95c80b39",
   "metadata": {},
   "source": [
    "Output: E A S Y Q U E S T I O N"
   ]
  },
  {
   "cell_type": "markdown",
   "id": "0040ed20",
   "metadata": {},
   "source": [
    "### Question 6"
   ]
  },
  {
   "cell_type": "markdown",
   "id": "838e2737",
   "metadata": {},
   "source": [
    "Output: N S T I O"
   ]
  },
  {
   "cell_type": "markdown",
   "id": "85ab9bb7",
   "metadata": {},
   "source": [
    "# Practical exercises"
   ]
  },
  {
   "cell_type": "markdown",
   "id": "7051048c",
   "metadata": {},
   "source": [
    "### Question 1"
   ]
  },
  {
   "cell_type": "code",
   "execution_count": 4,
   "id": "957281ac",
   "metadata": {},
   "outputs": [],
   "source": [
    "class stack:\n",
    "    def __init__(self):\n",
    "        self.stack_=[]\n",
    "    def isEmpty(self):\n",
    "        return len(self.stack_)==0\n",
    "    def clear(self):\n",
    "        self.stack_=[]\n",
    "    def push(self,x):\n",
    "        self.stack_.append(x)\n",
    "    def pop(self):\n",
    "        if len(self.stack_)==0:\n",
    "            print('Stack is Empty')\n",
    "        else:\n",
    "            return self.stack_.pop()\n",
    "    def top(self):\n",
    "        if len(self.stack_)==0:\n",
    "            print('Stack is Empty')\n",
    "        else:\n",
    "            return self.stack_[-1]\n",
    "    def traverse(self):\n",
    "        for i in range(len(self.stack_)-1,-1,-1):\n",
    "            print(self.stack_[i],end=' ')\n",
    "def convert_stack(n):\n",
    "    s=stack()\n",
    "    while n:\n",
    "        du=n%2\n",
    "        s.push(du)\n",
    "        n//=2\n",
    "    binary=\"\"\n",
    "    while not s.isEmpty():\n",
    "        binary+=str(s.pop())\n",
    "    print(binary)"
   ]
  },
  {
   "cell_type": "markdown",
   "id": "7c19662b",
   "metadata": {},
   "source": [
    "### Question 2"
   ]
  },
  {
   "cell_type": "code",
   "execution_count": 5,
   "id": "4bb7b715",
   "metadata": {},
   "outputs": [],
   "source": [
    "class queue:\n",
    "    def __init__(self):\n",
    "        self.q=[]\n",
    "    def isEmpty(self):\n",
    "        return len(self.q)==0\n",
    "    def clear(self):\n",
    "        self.q=[]\n",
    "    def enqueue(self,x):\n",
    "        self.q.append(x)\n",
    "    def dequeue(self):\n",
    "        return self.q.pop(0)\n",
    "    def first(self):\n",
    "        if self.q==[]:\n",
    "            print('Queue is empty')\n",
    "        else:\n",
    "            return self.q[0]\n",
    "    def traverse(self):\n",
    "        for i in self.q:\n",
    "            print(i,end=' ')\n",
    "def convert_queue(n):\n",
    "    binary='0.'\n",
    "    q=queue()\n",
    "    while n:\n",
    "        n*=2\n",
    "        int_part=int(n)\n",
    "        n-=int_part\n",
    "        q.enqueue(int_part)\n",
    "    while not q.isEmpty():\n",
    "        binary+=str(q.dequeue())\n",
    "    print(binary)"
   ]
  },
  {
   "cell_type": "markdown",
   "id": "b02f4881",
   "metadata": {},
   "source": [
    "### Question 3,4,5"
   ]
  },
  {
   "cell_type": "code",
   "execution_count": 6,
   "id": "95709480",
   "metadata": {},
   "outputs": [
    {
     "name": "stdout",
     "output_type": "stream",
     "text": [
      "Số cần đổi ra hệ nhị phân: 102\n",
      "Số nhỏ hơn 1 cần đổi ra nhị phân : 0.5\n",
      "----- Stack -----\n",
      "Traverse: AI1811 Lab 2 \n",
      "Top : AI1811\n",
      "Pop : AI1811\n",
      "----- Queue -----\n",
      "So n sau khi doi ra binary: 1100110\n",
      "Traverse: Lab 2 AI1811 \n",
      "First: Lab 2\n",
      "Dequeue : Lab 2\n",
      "So m sau khi doi ra binary: 0.1\n"
     ]
    }
   ],
   "source": [
    "def main(n,m):\n",
    "    s=stack()\n",
    "    s.push(\"Lab 2\")\n",
    "    s.push(\"AI1811\")\n",
    "    print('-'*5,'Stack','-'*5)\n",
    "    print(\"Traverse: \",end='')\n",
    "    s.traverse()\n",
    "    print()\n",
    "    print(f'Top : {s.top()}')\n",
    "    print(f'Pop : {s.pop()}')\n",
    "    print('-'*5,'Queue','-'*5)\n",
    "    print(f'So n sau khi doi ra binary: ',end='')\n",
    "    convert_stack(n)\n",
    "    q=queue()\n",
    "    q.enqueue(\"Lab 2\")\n",
    "    q.enqueue(\"AI1811\")\n",
    "    print(\"Traverse: \",end='')\n",
    "    q.traverse()\n",
    "    print()\n",
    "    print(f'First: {q.first()}')\n",
    "    print(f'Dequeue : {q.dequeue()}')\n",
    "    print(f'So m sau khi doi ra binary: ',end='')\n",
    "    convert_queue(m)\n",
    "n=int(input('Số cần đổi ra hệ nhị phân: '))\n",
    "m=float(input('Số nhỏ hơn 1 cần đổi ra nhị phân : '))\n",
    "main(n,m)"
   ]
  },
  {
   "cell_type": "code",
   "execution_count": null,
   "id": "9700381d",
   "metadata": {},
   "outputs": [],
   "source": []
  }
 ],
 "metadata": {
  "kernelspec": {
   "display_name": "Python 3 (ipykernel)",
   "language": "python",
   "name": "python3"
  },
  "language_info": {
   "codemirror_mode": {
    "name": "ipython",
    "version": 3
   },
   "file_extension": ".py",
   "mimetype": "text/x-python",
   "name": "python",
   "nbconvert_exporter": "python",
   "pygments_lexer": "ipython3",
   "version": "3.11.5"
  }
 },
 "nbformat": 4,
 "nbformat_minor": 5
}
