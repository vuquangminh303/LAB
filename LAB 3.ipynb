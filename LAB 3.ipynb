{
 "cells": [
  {
   "cell_type": "markdown",
   "id": "940f6fb2",
   "metadata": {},
   "source": [
    "# Writing Exercise"
   ]
  },
  {
   "cell_type": "markdown",
   "id": "ada81ff3",
   "metadata": {},
   "source": [
    "### Question 1"
   ]
  },
  {
   "cell_type": "markdown",
   "id": "b6281912",
   "metadata": {},
   "source": [
    "output:    \n",
    "1    \n",
    "1    \n",
    "1    \n",
    "1    \n",
    "1    \n",
    "1    \n",
    "1    \n",
    "1    \n",
    "1"
   ]
  },
  {
   "cell_type": "markdown",
   "id": "410fa588",
   "metadata": {},
   "source": [
    "### Question 2"
   ]
  },
  {
   "cell_type": "markdown",
   "id": "898023a2",
   "metadata": {},
   "source": [
    "#### 2.1 "
   ]
  },
  {
   "cell_type": "markdown",
   "id": "316a9121",
   "metadata": {},
   "source": [
    "base case khi base>limit trả về -1, khi base==limit trả về 1 "
   ]
  },
  {
   "cell_type": "markdown",
   "id": "5ac85bd4",
   "metadata": {},
   "source": [
    "#### 2.2"
   ]
  },
  {
   "cell_type": "markdown",
   "id": "81c09448",
   "metadata": {},
   "source": [
    "recursive case khi base nhỏ hơn limit"
   ]
  },
  {
   "cell_type": "markdown",
   "id": "94988851",
   "metadata": {},
   "source": [
    "#### 2.3"
   ]
  },
  {
   "cell_type": "markdown",
   "id": "cb935e81",
   "metadata": {},
   "source": [
    "output:    \n",
    "-1     \n",
    "120   \n",
    "1"
   ]
  },
  {
   "cell_type": "markdown",
   "id": "1feccffd",
   "metadata": {},
   "source": [
    "### Question 3"
   ]
  },
  {
   "cell_type": "markdown",
   "id": "3c081cad",
   "metadata": {},
   "source": [
    "Output:    \n",
    "1          \n",
    "2   \n",
    "3"
   ]
  },
  {
   "cell_type": "markdown",
   "id": "e83dd925",
   "metadata": {},
   "source": [
    "### Question 4"
   ]
  },
  {
   "cell_type": "markdown",
   "id": "5de6492f",
   "metadata": {},
   "source": [
    "Output:    \n",
    "4    \n",
    "3    \n",
    "1    \n",
    "0"
   ]
  },
  {
   "cell_type": "markdown",
   "id": "525ea217",
   "metadata": {},
   "source": [
    "### Question 5"
   ]
  },
  {
   "cell_type": "markdown",
   "id": "723895b5",
   "metadata": {},
   "source": [
    "Output:    \n",
    "5    \n",
    "4    \n",
    "1    \n",
    "0    \n",
    "1    \n",
    "4    \n",
    "5"
   ]
  },
  {
   "cell_type": "markdown",
   "id": "f27c9601",
   "metadata": {},
   "source": [
    "### Question 6"
   ]
  },
  {
   "cell_type": "code",
   "execution_count": 20,
   "id": "c329d424",
   "metadata": {},
   "outputs": [],
   "source": [
    "def sum(n):\n",
    "    if n==1:\n",
    "        return 1\n",
    "    return 1/n + sum(n-1)"
   ]
  },
  {
   "cell_type": "markdown",
   "id": "7967517c",
   "metadata": {},
   "source": [
    "### Question 7"
   ]
  },
  {
   "cell_type": "markdown",
   "id": "c3d34651",
   "metadata": {},
   "source": [
    "#### 7.1"
   ]
  },
  {
   "cell_type": "markdown",
   "id": "b9c834f4",
   "metadata": {},
   "source": [
    "trong trường hợp b=0 thì trả về 0, không thực hiện thêm 1 phép đệ quy nào nữa"
   ]
  },
  {
   "cell_type": "markdown",
   "id": "c99f7976",
   "metadata": {},
   "source": [
    "#### 7.2\n",
    "mystery(2,25)=50      \n",
    "mystery(3,31)=93      \n",
    "mystery(a,b)=a*b      \n",
    "khi thay + bằng * thì:      \n",
    "mystery(2,25)=0      \n",
    "mystery(3,31)=0      \n",
    "mystery(a,b)=0"
   ]
  },
  {
   "cell_type": "markdown",
   "id": "f9cb5e47",
   "metadata": {},
   "source": [
    "#### 7.3\n",
    "có 4 lần gọi cụ thể là mistery (3,7) mistery(6,3) mistery(12,1) mistery(24,0)"
   ]
  },
  {
   "cell_type": "markdown",
   "id": "d077e5eb",
   "metadata": {},
   "source": [
    "# Question 8:\n",
    "Output:    \n",
    "6    \n",
    "4    \n",
    "2    \n",
    "2    \n",
    "1    \n",
    "1    \n",
    "4    \n",
    "3    \n",
    "1    \n",
    "1    \n",
    "3    \n",
    "6"
   ]
  },
  {
   "cell_type": "markdown",
   "id": "dabd4a67",
   "metadata": {},
   "source": [
    "#### Question 9:\n",
    "Output: 311361142246"
   ]
  },
  {
   "cell_type": "markdown",
   "id": "f048cdfc",
   "metadata": {},
   "source": [
    "# Practical exercises"
   ]
  },
  {
   "cell_type": "markdown",
   "id": "88e6cf8b",
   "metadata": {},
   "source": [
    "### Question 1:"
   ]
  },
  {
   "cell_type": "code",
   "execution_count": 51,
   "id": "ac311db6",
   "metadata": {},
   "outputs": [],
   "source": [
    "def sum(n):\n",
    "    if n==1:\n",
    "        return 1\n",
    "    return n+sum(n-1)"
   ]
  },
  {
   "cell_type": "markdown",
   "id": "e55faec7",
   "metadata": {},
   "source": [
    "### Question 2:"
   ]
  },
  {
   "cell_type": "code",
   "execution_count": 54,
   "id": "71894341",
   "metadata": {},
   "outputs": [],
   "source": [
    "def findmin(arr,n):\n",
    "    if n==1:\n",
    "        return arr[0]\n",
    "    else:\n",
    "        return min(arr[n-1],findmin(arr,n-1))"
   ]
  },
  {
   "cell_type": "markdown",
   "id": "0ef321fb",
   "metadata": {},
   "source": [
    "### Question 3"
   ]
  },
  {
   "cell_type": "code",
   "execution_count": 60,
   "id": "ff0bce18",
   "metadata": {},
   "outputs": [],
   "source": [
    "def findsum(arr,n):\n",
    "    if n==1:\n",
    "        return arr[0]\n",
    "    else:\n",
    "        return arr[n-1]+findsum(arr,n-1)"
   ]
  },
  {
   "cell_type": "markdown",
   "id": "1f2a8c3a",
   "metadata": {},
   "source": [
    "### Question 4"
   ]
  },
  {
   "cell_type": "code",
   "execution_count": 72,
   "id": "d5167ad1",
   "metadata": {},
   "outputs": [],
   "source": [
    "def ispalindrome(arr,n):\n",
    "    if n==1:\n",
    "        return 1\n",
    "    if arr[n-1]!=arr[0]:\n",
    "        return 0\n",
    "    else:\n",
    "        return ispalindrome(arr[1:n-1],n-2)"
   ]
  },
  {
   "cell_type": "markdown",
   "id": "827b5e07",
   "metadata": {},
   "source": [
    "### Question 5"
   ]
  },
  {
   "cell_type": "code",
   "execution_count": 79,
   "id": "84176d78",
   "metadata": {},
   "outputs": [],
   "source": [
    "def binarySearch(arr,low,high,target):\n",
    "    if high>=low:\n",
    "        mid=(low+high)//2\n",
    "        if arr[mid]>target:\n",
    "            return binarySearch(arr,low,mid-1,target)\n",
    "        elif arr[mid]<target:\n",
    "            return binarySearch(arr,mid+1,high,target)\n",
    "        else:\n",
    "            return mid\n",
    "    else:\n",
    "        return -1"
   ]
  },
  {
   "cell_type": "markdown",
   "id": "1406ee0e",
   "metadata": {},
   "source": [
    "### Question 6"
   ]
  },
  {
   "cell_type": "code",
   "execution_count": 85,
   "id": "937fea05",
   "metadata": {},
   "outputs": [],
   "source": [
    "def gcd(m,n):\n",
    "    if n==0:\n",
    "        return m\n",
    "    else:\n",
    "        return gcd(n,m%n)"
   ]
  },
  {
   "cell_type": "markdown",
   "id": "c314e4a8",
   "metadata": {},
   "source": [
    "### Question 7"
   ]
  },
  {
   "cell_type": "code",
   "execution_count": 88,
   "id": "4c300083",
   "metadata": {},
   "outputs": [],
   "source": [
    "def power(x,n):\n",
    "    if n==0:\n",
    "        return 1\n",
    "    else:\n",
    "        return x*power(x,n-1)"
   ]
  },
  {
   "cell_type": "markdown",
   "id": "a36f8832",
   "metadata": {},
   "source": [
    "### Question 8"
   ]
  },
  {
   "cell_type": "code",
   "execution_count": 91,
   "id": "05de6543",
   "metadata": {},
   "outputs": [],
   "source": [
    "def factorial(n):\n",
    "    if n<=1:\n",
    "        return 1\n",
    "    else:\n",
    "        return n*factorial(n-1)"
   ]
  },
  {
   "cell_type": "markdown",
   "id": "62cf3807",
   "metadata": {},
   "source": [
    "### Question 9"
   ]
  },
  {
   "cell_type": "code",
   "execution_count": 96,
   "id": "20d18c92",
   "metadata": {},
   "outputs": [],
   "source": [
    "def fib(n):\n",
    "    if n<=2:\n",
    "        return 1\n",
    "    else:\n",
    "        return fib(n-1)+fib(n-2)"
   ]
  },
  {
   "cell_type": "markdown",
   "id": "c0e10ec3",
   "metadata": {},
   "source": [
    "### Question 10"
   ]
  },
  {
   "cell_type": "code",
   "execution_count": 102,
   "id": "04868201",
   "metadata": {},
   "outputs": [],
   "source": [
    "def addReciprocals(n):\n",
    "    if n==1:\n",
    "        return 1\n",
    "    else:\n",
    "        return 1/n+addReciprocals(n-1)"
   ]
  },
  {
   "cell_type": "markdown",
   "id": "44317a5b",
   "metadata": {},
   "source": [
    "### Question 11"
   ]
  },
  {
   "cell_type": "code",
   "execution_count": 104,
   "id": "c2fc96fd",
   "metadata": {},
   "outputs": [],
   "source": [
    "def stirling(n,k):\n",
    "    if n==0 and k==0:\n",
    "        return 1\n",
    "    if k==0 and n!=0:\n",
    "        return 0\n",
    "    if n==0 and k!=0:\n",
    "        return 0\n",
    "    return stirling(n-1,k-1)-(n-1)*stirling(n-1,k)"
   ]
  },
  {
   "cell_type": "markdown",
   "id": "ac1541b9",
   "metadata": {},
   "source": [
    "### Question 12"
   ]
  },
  {
   "cell_type": "code",
   "execution_count": 109,
   "id": "c67b4406",
   "metadata": {},
   "outputs": [],
   "source": [
    "class TreeNode:\n",
    "    def __init__(self,x):\n",
    "        self.val=x\n",
    "        self.left=None\n",
    "        self.right=None\n",
    "    def insert(self,x):\n",
    "        if self.val:\n",
    "            if x<self.val:\n",
    "                if self.left is None:\n",
    "                    self.left=TreeNode(x)\n",
    "                else:\n",
    "                    self.left.insert(x)\n",
    "            elif x>self.val:\n",
    "                if self.right is None:\n",
    "                    self.right=TreeNode(x)\n",
    "                else:\n",
    "                    self.right.insert(x)\n",
    "        else:\n",
    "            self.val=x\n",
    "def height(root):\n",
    "    if root is None:\n",
    "        return 0\n",
    "    else:\n",
    "        left_height=height(root.left)\n",
    "        right_height=height(root.right)\n",
    "        return max(left_height,right_height)+1"
   ]
  },
  {
   "cell_type": "markdown",
   "id": "57f194db",
   "metadata": {},
   "source": [
    "### Question 13"
   ]
  },
  {
   "cell_type": "code",
   "execution_count": 116,
   "id": "5cef5835",
   "metadata": {},
   "outputs": [],
   "source": [
    "def size(root):\n",
    "    if root is None:\n",
    "        return 0\n",
    "    else:\n",
    "        left_size=size(root.left)\n",
    "        right_size=size(root.right)\n",
    "        return left_size+right_size+1"
   ]
  }
 ],
 "metadata": {
  "kernelspec": {
   "display_name": "Python 3 (ipykernel)",
   "language": "python",
   "name": "python3"
  },
  "language_info": {
   "codemirror_mode": {
    "name": "ipython",
    "version": 3
   },
   "file_extension": ".py",
   "mimetype": "text/x-python",
   "name": "python",
   "nbconvert_exporter": "python",
   "pygments_lexer": "ipython3",
   "version": "3.11.5"
  }
 },
 "nbformat": 4,
 "nbformat_minor": 5
}
